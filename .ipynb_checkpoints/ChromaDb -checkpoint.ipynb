{
 "cells": [
  {
   "cell_type": "code",
   "execution_count": 1,
   "id": "73ce9089-e889-4ca9-ba68-6de1c9d73737",
   "metadata": {},
   "outputs": [],
   "source": [
    "import chromadb"
   ]
  },
  {
   "cell_type": "code",
   "execution_count": 2,
   "id": "46af45d0-3650-4eb7-843b-e7b679cb8db1",
   "metadata": {},
   "outputs": [],
   "source": [
    "client = chromadb.Client()\n",
    "collections = client.create_collection(name=\"My_collections\")"
   ]
  },
  {
   "cell_type": "code",
   "execution_count": 3,
   "id": "b89f7fbc-00fa-425f-b889-31b9870c6971",
   "metadata": {},
   "outputs": [],
   "source": [
    "collections.add(\n",
    "\n",
    "    documents=[\n",
    "\n",
    "        \"This document about the new york\",\n",
    "        \"This document about Delhi\"\n",
    "    ],\n",
    "    ids=['id1','id2']\n",
    ")"
   ]
  },
  {
   "cell_type": "code",
   "execution_count": 4,
   "id": "4f850d61-1951-4001-9618-16169c51f7ad",
   "metadata": {},
   "outputs": [],
   "source": [
    "all_document = collections.get(ids = [\"id2\"])"
   ]
  },
  {
   "cell_type": "code",
   "execution_count": 5,
   "id": "0a8fb7d9-a20f-4a74-b9e5-64eee228a80e",
   "metadata": {},
   "outputs": [
    {
     "data": {
      "text/plain": [
       "{'ids': ['id2'],\n",
       " 'embeddings': None,\n",
       " 'documents': ['This document about Delhi'],\n",
       " 'uris': None,\n",
       " 'data': None,\n",
       " 'metadatas': [None],\n",
       " 'included': [<IncludeEnum.documents: 'documents'>,\n",
       "  <IncludeEnum.metadatas: 'metadatas'>]}"
      ]
     },
     "execution_count": 5,
     "metadata": {},
     "output_type": "execute_result"
    }
   ],
   "source": [
    "all_document"
   ]
  },
  {
   "cell_type": "code",
   "execution_count": 6,
   "id": "41f45cc6-70fe-4df5-903e-ba0f433efc7c",
   "metadata": {},
   "outputs": [
    {
     "data": {
      "text/plain": [
       "{'ids': [['id1', 'id2']],\n",
       " 'embeddings': None,\n",
       " 'documents': [['This document about the new york',\n",
       "   'This document about Delhi']],\n",
       " 'uris': None,\n",
       " 'data': None,\n",
       " 'metadatas': [[None, None]],\n",
       " 'distances': [[1.663384199142456, 1.8702619075775146]],\n",
       " 'included': [<IncludeEnum.distances: 'distances'>,\n",
       "  <IncludeEnum.documents: 'documents'>,\n",
       "  <IncludeEnum.metadatas: 'metadatas'>]}"
      ]
     },
     "execution_count": 6,
     "metadata": {},
     "output_type": "execute_result"
    }
   ],
   "source": [
    "result = collections.query(\n",
    "    query_texts= ['Query is about big apple'],\n",
    "    n_results=2\n",
    ")\n",
    "result"
   ]
  },
  {
   "cell_type": "code",
   "execution_count": 20,
   "id": "0ecb679a-709c-4169-b48a-2f7b08aec9e9",
   "metadata": {},
   "outputs": [
    {
     "data": {
      "text/plain": [
       "{'ids': ['id1'],\n",
       " 'embeddings': None,\n",
       " 'documents': ['This document about the new york'],\n",
       " 'uris': None,\n",
       " 'data': None,\n",
       " 'metadatas': [None],\n",
       " 'included': [<IncludeEnum.documents: 'documents'>,\n",
       "  <IncludeEnum.metadatas: 'metadatas'>]}"
      ]
     },
     "execution_count": 20,
     "metadata": {},
     "output_type": "execute_result"
    }
   ],
   "source": [
    "collections.get()"
   ]
  },
  {
   "cell_type": "code",
   "execution_count": null,
   "id": "c50efad8-6e00-4988-9746-02d5362f93df",
   "metadata": {},
   "outputs": [],
   "source": []
  }
 ],
 "metadata": {
  "kernelspec": {
   "display_name": "Python [conda env:base] *",
   "language": "python",
   "name": "conda-base-py"
  },
  "language_info": {
   "codemirror_mode": {
    "name": "ipython",
    "version": 3
   },
   "file_extension": ".py",
   "mimetype": "text/x-python",
   "name": "python",
   "nbconvert_exporter": "python",
   "pygments_lexer": "ipython3",
   "version": "3.12.3"
  }
 },
 "nbformat": 4,
 "nbformat_minor": 5
}
