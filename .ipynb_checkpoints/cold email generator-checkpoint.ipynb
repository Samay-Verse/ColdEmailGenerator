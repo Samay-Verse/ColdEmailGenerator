{
 "cells": [
  {
   "cell_type": "code",
   "execution_count": 11,
   "id": "b229b88d-ad32-4cca-b036-5468a488c475",
   "metadata": {},
   "outputs": [],
   "source": [
    "from langchain_groq import ChatGroq"
   ]
  },
  {
   "cell_type": "code",
   "execution_count": 12,
   "id": "f6517a9b-3b81-4335-851f-fb5d8f32b417",
   "metadata": {},
   "outputs": [],
   "source": [
    "llm = ChatGroq(  \n",
    "    model=\"llama-3.3-70b-versatile\",\n",
    "    api_key=\"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\",\n",
    "    temperature = 0\n",
    ")"
   ]
  },
  {
   "cell_type": "code",
   "execution_count": 17,
   "id": "4632391d-ce3d-40ac-a1af-448e1dd53cb3",
   "metadata": {},
   "outputs": [
    {
     "name": "stdout",
     "output_type": "stream",
     "text": [
      "Neil Armstrong.\n"
     ]
    }
   ],
   "source": [
    "respond = llm.invoke(\"Who is the first person land on mooon in short\")\n",
    "print(respond.content)"
   ]
  },
  {
   "cell_type": "code",
   "execution_count": null,
   "id": "bd74e47b-18e3-42df-bb19-f1f396eac25c",
   "metadata": {},
   "outputs": [],
   "source": []
  }
 ],
 "metadata": {
  "kernelspec": {
   "display_name": "Python [conda env:base] *",
   "language": "python",
   "name": "conda-base-py"
  },
  "language_info": {
   "codemirror_mode": {
    "name": "ipython",
    "version": 3
   },
   "file_extension": ".py",
   "mimetype": "text/x-python",
   "name": "python",
   "nbconvert_exporter": "python",
   "pygments_lexer": "ipython3",
   "version": "3.12.3"
  }
 },
 "nbformat": 4,
 "nbformat_minor": 5
}
