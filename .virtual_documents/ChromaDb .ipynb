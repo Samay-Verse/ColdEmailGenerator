import chromadb


client = chromadb.Client()
collections = client.create_collection(name="My_collections")


collections.add(

    documents=[

        "This document about the new york",
        "This document about Delhi"
    ],
    ids=['id1','id2']
)


all_document = collections.get(ids = ["id2"])


all_document


result = collections.query(
    query_texts= ['Query is about big apple'],
    n_results=2
)
result


collections.get()



