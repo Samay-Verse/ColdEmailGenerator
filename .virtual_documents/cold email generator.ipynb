from langchain_groq import ChatGroq


llm = ChatGroq(  
    model="llama-3.3-70b-versatile",
    api_key="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",
    temperature = 0
)


respond = llm.invoke("Who is the first person land on mooon in short")
print(respond.content)


from langchain_community.document_loaders import WebBaseLoader
loader = WebBaseLoader("https://careers.nike.com/director-software-engineering-itc/job/R-49416")
page_data = loader.load().pop().page_content
print(page_data)


from langchain_core.prompts import PromptTemplate
prompt_extract = PromptTemplate.from_template(

    """  ## Scraped Text From Website:
    
    {page_data}
    ## Instruction:
    The scraped text is from the career's page of a website 
    your job is to extaract the job postings and return them in a JSOn format containing following keys: "Role",
    'Experience','skills' and 'description'
    only return the vaild json 
    ### VALIDE JSON (No PREAMBLE) 
    """   
)
chain_extract = prompt_extract | llm
res = chain_extract.invoke(input = {'page_data':page_data})
print(res.content)


from langchain_core.output_parsers import Json
